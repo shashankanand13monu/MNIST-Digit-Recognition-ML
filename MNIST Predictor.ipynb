{
 "cells": [
  {
   "cell_type": "markdown",
   "id": "fa1e334e",
   "metadata": {},
   "source": [
    "# Fetching Dataset"
   ]
  },
  {
   "cell_type": "code",
   "execution_count": 162,
   "id": "e5712b68",
   "metadata": {},
   "outputs": [],
   "source": [
    "from sklearn.datasets import fetch_openml\n",
    "%matplotlib inline\n",
    "from matplotlib import pyplot as plt\n",
    "import matplotlib\n",
    "import numpy as np\n",
    "import pandas as pd\n",
    "from sklearn.linear_model import LogisticRegression\n",
    "from sklearn.model_selection import cross_val_score"
   ]
  },
  {
   "cell_type": "code",
   "execution_count": 20,
   "id": "60e857f9",
   "metadata": {},
   "outputs": [],
   "source": [
    " mnist = fetch_openml('mnist_784')"
   ]
  },
  {
   "cell_type": "code",
   "execution_count": 51,
   "id": "18a65822",
   "metadata": {},
   "outputs": [],
   "source": [
    "x, y= mnist['data'], mnist['target']"
   ]
  },
  {
   "cell_type": "code",
   "execution_count": 62,
   "id": "44fd77da",
   "metadata": {},
   "outputs": [
    {
     "data": {
      "text/plain": [
       "(70000, 784)"
      ]
     },
     "execution_count": 62,
     "metadata": {},
     "output_type": "execute_result"
    }
   ],
   "source": [
    "x.shape"
   ]
  },
  {
   "cell_type": "code",
   "execution_count": null,
   "id": "723163ab",
   "metadata": {},
   "outputs": [],
   "source": [
    "some_digit = np.array(x.iloc[3600]) #Convert data into Array iloc-> to get specific row&coloumn\n",
    "some_digit_image = some_digit.reshape(28,28)\n",
    "plt.imshow(some_digit_image,cmap= matplotlib.cm.binary, interpolation=\"nearest\")\n",
    "# plt.axis(\"off\") # For removing scale"
   ]
  },
  {
   "cell_type": "code",
   "execution_count": 168,
   "id": "9d23948b",
   "metadata": {},
   "outputs": [
    {
     "data": {
      "text/plain": [
       "'8'"
      ]
     },
     "execution_count": 168,
     "metadata": {},
     "output_type": "execute_result"
    }
   ],
   "source": [
    "y.iloc[3600]"
   ]
  },
  {
   "cell_type": "code",
   "execution_count": 172,
   "id": "740dc384",
   "metadata": {},
   "outputs": [],
   "source": [
    "x_train= np.array(x.iloc[:6000])\n",
    "x_test = np.array(x.iloc[6000:7000])"
   ]
  },
  {
   "cell_type": "code",
   "execution_count": 173,
   "id": "d239c8c8",
   "metadata": {},
   "outputs": [],
   "source": [
    "y_train= np.array(y.iloc[:6000])\n",
    "y_test= np.array(y.iloc[6000:7000])"
   ]
  },
  {
   "cell_type": "code",
   "execution_count": 174,
   "id": "6dc307de",
   "metadata": {},
   "outputs": [],
   "source": [
    "shuffle_index = np.random.permutation(6000)\n",
    "x_train = x_train[shuffle_index]\n",
    "y_train = y_train[shuffle_index]"
   ]
  },
  {
   "cell_type": "markdown",
   "id": "da741472",
   "metadata": {},
   "source": [
    "# Creating a 2 Detector"
   ]
  },
  {
   "cell_type": "code",
   "execution_count": 175,
   "id": "32b535be",
   "metadata": {},
   "outputs": [
    {
     "data": {
      "text/plain": [
       "array([False, False, False, ..., False, False, False])"
      ]
     },
     "execution_count": 175,
     "metadata": {},
     "output_type": "execute_result"
    }
   ],
   "source": [
    "y_train = y_train.astype(np.int8) #Output is in string '1','2' \n",
    "y_test= y_test.astype(np.int8) #It converts it into numbers. String->No.\n",
    "y_train_2 = (y_train==2)\n",
    "y_test_2 = (y_test==2)\n",
    "y_train_2"
   ]
  },
  {
   "cell_type": "code",
   "execution_count": 176,
   "id": "93e28042",
   "metadata": {},
   "outputs": [
    {
     "data": {
      "text/plain": [
       "array([0, 9, 3, ..., 1, 6, 3], dtype=int8)"
      ]
     },
     "execution_count": 176,
     "metadata": {},
     "output_type": "execute_result"
    }
   ],
   "source": [
    "y_train"
   ]
  },
  {
   "cell_type": "code",
   "execution_count": 182,
   "id": "2d05967e",
   "metadata": {},
   "outputs": [
    {
     "name": "stderr",
     "output_type": "stream",
     "text": [
      "c:\\users\\kiit\\appdata\\local\\programs\\python\\python39\\lib\\site-packages\\sklearn\\linear_model\\_logistic.py:763: ConvergenceWarning: lbfgs failed to converge (status=1):\n",
      "STOP: TOTAL NO. of ITERATIONS REACHED LIMIT.\n",
      "\n",
      "Increase the number of iterations (max_iter) or scale the data as shown in:\n",
      "    https://scikit-learn.org/stable/modules/preprocessing.html\n",
      "Please also refer to the documentation for alternative solver options:\n",
      "    https://scikit-learn.org/stable/modules/linear_model.html#logistic-regression\n",
      "  n_iter_i = _check_optimize_result(\n"
     ]
    },
    {
     "data": {
      "text/plain": [
       "LogisticRegression(max_iter=1000, tol=0.1)"
      ]
     },
     "execution_count": 182,
     "metadata": {},
     "output_type": "execute_result"
    }
   ],
   "source": [
    "clf = LogisticRegression(tol=0.1,max_iter=1000,solver='lbfgs')\n",
    "clf.fit(x_train , y_train_2)\n"
   ]
  },
  {
   "cell_type": "code",
   "execution_count": 183,
   "id": "69015ed5",
   "metadata": {},
   "outputs": [
    {
     "data": {
      "text/plain": [
       "array([False])"
      ]
     },
     "execution_count": 183,
     "metadata": {},
     "output_type": "execute_result"
    }
   ],
   "source": [
    "clf.predict([some_digit])"
   ]
  },
  {
   "cell_type": "markdown",
   "id": "e2971880",
   "metadata": {},
   "source": [
    "# cross validation "
   ]
  },
  {
   "cell_type": "code",
   "execution_count": 184,
   "id": "9205f3d5",
   "metadata": {},
   "outputs": [],
   "source": [
    "a= cross_val_score(clf,x_train,y_train_2,cv=3,scoring=\"accuracy\")"
   ]
  },
  {
   "cell_type": "code",
   "execution_count": 185,
   "id": "1731ecf2",
   "metadata": {},
   "outputs": [
    {
     "data": {
      "text/plain": [
       "0.957"
      ]
     },
     "execution_count": 185,
     "metadata": {},
     "output_type": "execute_result"
    }
   ],
   "source": [
    "a.mean()"
   ]
  },
  {
   "cell_type": "code",
   "execution_count": null,
   "id": "5dd4552a",
   "metadata": {},
   "outputs": [],
   "source": []
  }
 ],
 "metadata": {
  "kernelspec": {
   "display_name": "Python 3 (ipykernel)",
   "language": "python",
   "name": "python3"
  },
  "language_info": {
   "codemirror_mode": {
    "name": "ipython",
    "version": 3
   },
   "file_extension": ".py",
   "mimetype": "text/x-python",
   "name": "python",
   "nbconvert_exporter": "python",
   "pygments_lexer": "ipython3",
   "version": "3.9.4"
  }
 },
 "nbformat": 4,
 "nbformat_minor": 5
}
